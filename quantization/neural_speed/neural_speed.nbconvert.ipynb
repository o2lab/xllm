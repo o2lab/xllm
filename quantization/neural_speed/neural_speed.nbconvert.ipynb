{
 "cells": [
  {
   "cell_type": "code",
   "execution_count": 1,
   "metadata": {
    "execution": {
     "iopub.execute_input": "2024-03-19T14:34:03.180714Z",
     "iopub.status.busy": "2024-03-19T14:34:03.180415Z",
     "iopub.status.idle": "2024-03-19T14:37:58.797019Z",
     "shell.execute_reply": "2024-03-19T14:37:58.795759Z"
    }
   },
   "outputs": [
    {
     "name": "stderr",
     "output_type": "stream",
     "text": [
      "/scratch/user/siweicui/.conda/envs/llm/lib/python3.11/site-packages/tqdm/auto.py:21: TqdmWarning: IProgress not found. Please update jupyter and ipywidgets. See https://ipywidgets.readthedocs.io/en/stable/user_install.html\n",
      "  from .autonotebook import tqdm as notebook_tqdm\n"
     ]
    }
   ],
   "source": [
    "from transformers import AutoTokenizer, TextStreamer\n",
    "from intel_extension_for_transformers.transformers import AutoModelForCausalLM\n"
   ]
  },
  {
   "cell_type": "code",
   "execution_count": 2,
   "metadata": {
    "execution": {
     "iopub.execute_input": "2024-03-19T14:37:58.803154Z",
     "iopub.status.busy": "2024-03-19T14:37:58.802540Z",
     "iopub.status.idle": "2024-03-19T14:37:58.807489Z",
     "shell.execute_reply": "2024-03-19T14:37:58.806637Z"
    }
   },
   "outputs": [],
   "source": [
    "model_name = \"mistralai/Mixtral-8x7B-Instruct-v0.1\"     # Hugging Face model_id or local model\n",
    "prompt = \"Once upon a time, there existed a little girl,\"\n"
   ]
  },
  {
   "cell_type": "code",
   "execution_count": 3,
   "metadata": {
    "execution": {
     "iopub.execute_input": "2024-03-19T14:37:58.811074Z",
     "iopub.status.busy": "2024-03-19T14:37:58.810713Z",
     "iopub.status.idle": "2024-03-19T14:38:00.083199Z",
     "shell.execute_reply": "2024-03-19T14:38:00.082061Z"
    }
   },
   "outputs": [],
   "source": [
    "\n",
    "tokenizer = AutoTokenizer.from_pretrained(model_name, trust_remote_code=True, cache_dir=\"/scratch/user/siweicui/LLM/huggingface\")\n",
    "inputs = tokenizer(prompt, return_tensors=\"pt\").input_ids\n",
    "streamer = TextStreamer(tokenizer)\n"
   ]
  },
  {
   "cell_type": "code",
   "execution_count": 4,
   "metadata": {
    "execution": {
     "iopub.execute_input": "2024-03-19T14:38:00.087750Z",
     "iopub.status.busy": "2024-03-19T14:38:00.087477Z",
     "iopub.status.idle": "2024-03-19T16:01:41.938326Z",
     "shell.execute_reply": "2024-03-19T16:01:41.936891Z"
    }
   },
   "outputs": [
    {
     "name": "stderr",
     "output_type": "stream",
     "text": [
      "2024-03-19 09:38:00 [INFO] Using Pytorch...\n"
     ]
    },
    {
     "name": "stderr",
     "output_type": "stream",
     "text": [
      "2024-03-19 09:38:01 [INFO] cpu device is used.\n"
     ]
    },
    {
     "name": "stderr",
     "output_type": "stream",
     "text": [
      "2024-03-19 09:38:01 [INFO] Applying Weight Only Quantization.\n"
     ]
    },
    {
     "name": "stderr",
     "output_type": "stream",
     "text": [
      "\r",
      "Loading checkpoint shards:   0%|          | 0/19 [00:00<?, ?it/s]"
     ]
    },
    {
     "name": "stderr",
     "output_type": "stream",
     "text": [
      "\r",
      "Loading checkpoint shards:   5%|▌         | 1/19 [00:07<02:14,  7.50s/it]"
     ]
    },
    {
     "name": "stderr",
     "output_type": "stream",
     "text": [
      "\r",
      "Loading checkpoint shards:  11%|█         | 2/19 [00:15<02:08,  7.54s/it]"
     ]
    },
    {
     "name": "stderr",
     "output_type": "stream",
     "text": [
      "\r",
      "Loading checkpoint shards:  16%|█▌        | 3/19 [00:22<01:57,  7.33s/it]"
     ]
    },
    {
     "name": "stderr",
     "output_type": "stream",
     "text": [
      "\r",
      "Loading checkpoint shards:  21%|██        | 4/19 [00:28<01:45,  7.03s/it]"
     ]
    },
    {
     "name": "stderr",
     "output_type": "stream",
     "text": [
      "\r",
      "Loading checkpoint shards:  26%|██▋       | 5/19 [00:36<01:40,  7.19s/it]"
     ]
    },
    {
     "name": "stderr",
     "output_type": "stream",
     "text": [
      "\r",
      "Loading checkpoint shards:  32%|███▏      | 6/19 [00:44<01:38,  7.55s/it]"
     ]
    },
    {
     "name": "stderr",
     "output_type": "stream",
     "text": [
      "\r",
      "Loading checkpoint shards:  37%|███▋      | 7/19 [00:50<01:26,  7.22s/it]"
     ]
    },
    {
     "name": "stderr",
     "output_type": "stream",
     "text": [
      "\r",
      "Loading checkpoint shards:  42%|████▏     | 8/19 [00:58<01:19,  7.20s/it]"
     ]
    },
    {
     "name": "stderr",
     "output_type": "stream",
     "text": [
      "\r",
      "Loading checkpoint shards:  47%|████▋     | 9/19 [01:05<01:11,  7.19s/it]"
     ]
    },
    {
     "name": "stderr",
     "output_type": "stream",
     "text": [
      "\r",
      "Loading checkpoint shards:  53%|█████▎    | 10/19 [01:11<01:02,  6.90s/it]"
     ]
    },
    {
     "name": "stderr",
     "output_type": "stream",
     "text": [
      "\r",
      "Loading checkpoint shards:  58%|█████▊    | 11/19 [01:19<00:56,  7.08s/it]"
     ]
    },
    {
     "name": "stderr",
     "output_type": "stream",
     "text": [
      "\r",
      "Loading checkpoint shards:  63%|██████▎   | 12/19 [01:26<00:50,  7.17s/it]"
     ]
    },
    {
     "name": "stderr",
     "output_type": "stream",
     "text": [
      "\r",
      "Loading checkpoint shards:  68%|██████▊   | 13/19 [01:33<00:42,  7.02s/it]"
     ]
    },
    {
     "name": "stderr",
     "output_type": "stream",
     "text": [
      "\r",
      "Loading checkpoint shards:  74%|███████▎  | 14/19 [01:39<00:34,  6.94s/it]"
     ]
    },
    {
     "name": "stderr",
     "output_type": "stream",
     "text": [
      "\r",
      "Loading checkpoint shards:  79%|███████▉  | 15/19 [01:50<00:31,  7.91s/it]"
     ]
    },
    {
     "name": "stderr",
     "output_type": "stream",
     "text": [
      "\r",
      "Loading checkpoint shards:  84%|████████▍ | 16/19 [02:02<00:28,  9.41s/it]"
     ]
    },
    {
     "name": "stderr",
     "output_type": "stream",
     "text": [
      "\r",
      "Loading checkpoint shards:  89%|████████▉ | 17/19 [02:13<00:19,  9.82s/it]"
     ]
    },
    {
     "name": "stderr",
     "output_type": "stream",
     "text": [
      "\r",
      "Loading checkpoint shards:  95%|█████████▍| 18/19 [02:25<00:10, 10.45s/it]"
     ]
    },
    {
     "name": "stderr",
     "output_type": "stream",
     "text": [
      "\r",
      "Loading checkpoint shards: 100%|██████████| 19/19 [02:35<00:00, 10.38s/it]"
     ]
    },
    {
     "name": "stderr",
     "output_type": "stream",
     "text": [
      "\r",
      "Loading checkpoint shards: 100%|██████████| 19/19 [02:35<00:00,  8.20s/it]"
     ]
    },
    {
     "name": "stderr",
     "output_type": "stream",
     "text": [
      "\n"
     ]
    },
    {
     "name": "stderr",
     "output_type": "stream",
     "text": [
      "2024-03-19 09:40:44 [INFO] Start auto tuning.\n"
     ]
    },
    {
     "name": "stderr",
     "output_type": "stream",
     "text": [
      "2024-03-19 09:40:44 [INFO] Quantize model without tuning!\n"
     ]
    },
    {
     "name": "stderr",
     "output_type": "stream",
     "text": [
      "2024-03-19 09:40:44 [INFO] Quantize the model with default configuration without evaluating the model.                To perform the tuning process, please either provide an eval_func or provide an                    eval_dataloader an eval_metric.\n"
     ]
    },
    {
     "name": "stderr",
     "output_type": "stream",
     "text": [
      "2024-03-19 09:40:44 [INFO] Adaptor has 5 recipes.\n"
     ]
    },
    {
     "name": "stderr",
     "output_type": "stream",
     "text": [
      "2024-03-19 09:40:44 [INFO] 0 recipes specified by user.\n"
     ]
    },
    {
     "name": "stderr",
     "output_type": "stream",
     "text": [
      "2024-03-19 09:40:44 [INFO] 3 recipes require future tuning.\n"
     ]
    },
    {
     "name": "stderr",
     "output_type": "stream",
     "text": [
      "2024-03-19 09:40:45 [INFO] *** Initialize auto tuning\n"
     ]
    },
    {
     "name": "stderr",
     "output_type": "stream",
     "text": [
      "2024-03-19 09:40:45 [INFO] {\n"
     ]
    },
    {
     "name": "stderr",
     "output_type": "stream",
     "text": [
      "2024-03-19 09:40:45 [INFO]     'PostTrainingQuantConfig': {\n"
     ]
    },
    {
     "name": "stderr",
     "output_type": "stream",
     "text": [
      "2024-03-19 09:40:45 [INFO]         'AccuracyCriterion': {\n"
     ]
    },
    {
     "name": "stderr",
     "output_type": "stream",
     "text": [
      "2024-03-19 09:40:45 [INFO]             'criterion': 'relative',\n"
     ]
    },
    {
     "name": "stderr",
     "output_type": "stream",
     "text": [
      "2024-03-19 09:40:45 [INFO]             'higher_is_better': True,\n"
     ]
    },
    {
     "name": "stderr",
     "output_type": "stream",
     "text": [
      "2024-03-19 09:40:45 [INFO]             'tolerable_loss': 0.01,\n"
     ]
    },
    {
     "name": "stderr",
     "output_type": "stream",
     "text": [
      "2024-03-19 09:40:45 [INFO]             'absolute': None,\n"
     ]
    },
    {
     "name": "stderr",
     "output_type": "stream",
     "text": [
      "2024-03-19 09:40:45 [INFO]             'keys': <bound method AccuracyCriterion.keys of <neural_compressor.config.AccuracyCriterion object at 0x2b2e6a864290>>,\n"
     ]
    },
    {
     "name": "stderr",
     "output_type": "stream",
     "text": [
      "2024-03-19 09:40:45 [INFO]             'relative': 0.01\n"
     ]
    },
    {
     "name": "stderr",
     "output_type": "stream",
     "text": [
      "2024-03-19 09:40:45 [INFO]         },\n"
     ]
    },
    {
     "name": "stderr",
     "output_type": "stream",
     "text": [
      "2024-03-19 09:40:45 [INFO]         'approach': 'post_training_weight_only',\n"
     ]
    },
    {
     "name": "stderr",
     "output_type": "stream",
     "text": [
      "2024-03-19 09:40:45 [INFO]         'backend': 'default',\n"
     ]
    },
    {
     "name": "stderr",
     "output_type": "stream",
     "text": [
      "2024-03-19 09:40:45 [INFO]         'calibration_sampling_size': [\n"
     ]
    },
    {
     "name": "stderr",
     "output_type": "stream",
     "text": [
      "2024-03-19 09:40:45 [INFO]             100\n"
     ]
    },
    {
     "name": "stderr",
     "output_type": "stream",
     "text": [
      "2024-03-19 09:40:45 [INFO]         ],\n"
     ]
    },
    {
     "name": "stderr",
     "output_type": "stream",
     "text": [
      "2024-03-19 09:40:45 [INFO]         'device': 'cpu',\n"
     ]
    },
    {
     "name": "stderr",
     "output_type": "stream",
     "text": [
      "2024-03-19 09:40:45 [INFO]         'diagnosis': False,\n"
     ]
    },
    {
     "name": "stderr",
     "output_type": "stream",
     "text": [
      "2024-03-19 09:40:45 [INFO]         'domain': 'auto',\n"
     ]
    },
    {
     "name": "stderr",
     "output_type": "stream",
     "text": [
      "2024-03-19 09:40:45 [INFO]         'example_inputs': 'Not printed here due to large size tensors...',\n"
     ]
    },
    {
     "name": "stderr",
     "output_type": "stream",
     "text": [
      "2024-03-19 09:40:45 [INFO]         'excluded_precisions': [\n"
     ]
    },
    {
     "name": "stderr",
     "output_type": "stream",
     "text": [
      "2024-03-19 09:40:45 [INFO]         ],\n"
     ]
    },
    {
     "name": "stderr",
     "output_type": "stream",
     "text": [
      "2024-03-19 09:40:45 [INFO]         'framework': 'pytorch_fx',\n"
     ]
    },
    {
     "name": "stderr",
     "output_type": "stream",
     "text": [
      "2024-03-19 09:40:45 [INFO]         'inputs': [\n"
     ]
    },
    {
     "name": "stderr",
     "output_type": "stream",
     "text": [
      "2024-03-19 09:40:45 [INFO]         ],\n"
     ]
    },
    {
     "name": "stderr",
     "output_type": "stream",
     "text": [
      "2024-03-19 09:40:45 [INFO]         'model_name': '',\n"
     ]
    },
    {
     "name": "stderr",
     "output_type": "stream",
     "text": [
      "2024-03-19 09:40:45 [INFO]         'ni_workload_name': 'quantization',\n"
     ]
    },
    {
     "name": "stderr",
     "output_type": "stream",
     "text": [
      "2024-03-19 09:40:45 [INFO]         'op_name_dict': {\n"
     ]
    },
    {
     "name": "stderr",
     "output_type": "stream",
     "text": [
      "2024-03-19 09:40:45 [INFO]             '.*lm_head': {\n"
     ]
    },
    {
     "name": "stderr",
     "output_type": "stream",
     "text": [
      "2024-03-19 09:40:45 [INFO]                 'weight': {\n"
     ]
    },
    {
     "name": "stderr",
     "output_type": "stream",
     "text": [
      "2024-03-19 09:40:45 [INFO]                     'dtype': [\n"
     ]
    },
    {
     "name": "stderr",
     "output_type": "stream",
     "text": [
      "2024-03-19 09:40:45 [INFO]                         'fp32'\n"
     ]
    },
    {
     "name": "stderr",
     "output_type": "stream",
     "text": [
      "2024-03-19 09:40:45 [INFO]                     ]\n"
     ]
    },
    {
     "name": "stderr",
     "output_type": "stream",
     "text": [
      "2024-03-19 09:40:45 [INFO]                 }\n"
     ]
    },
    {
     "name": "stderr",
     "output_type": "stream",
     "text": [
      "2024-03-19 09:40:45 [INFO]             }\n"
     ]
    },
    {
     "name": "stderr",
     "output_type": "stream",
     "text": [
      "2024-03-19 09:40:45 [INFO]         },\n"
     ]
    },
    {
     "name": "stderr",
     "output_type": "stream",
     "text": [
      "2024-03-19 09:40:45 [INFO]         'op_type_dict': {\n"
     ]
    },
    {
     "name": "stderr",
     "output_type": "stream",
     "text": [
      "2024-03-19 09:40:45 [INFO]             '.*': {\n"
     ]
    },
    {
     "name": "stderr",
     "output_type": "stream",
     "text": [
      "2024-03-19 09:40:45 [INFO]                 'weight': {\n"
     ]
    },
    {
     "name": "stderr",
     "output_type": "stream",
     "text": [
      "2024-03-19 09:40:45 [INFO]                     'bits': [\n"
     ]
    },
    {
     "name": "stderr",
     "output_type": "stream",
     "text": [
      "2024-03-19 09:40:45 [INFO]                         4\n"
     ]
    },
    {
     "name": "stderr",
     "output_type": "stream",
     "text": [
      "2024-03-19 09:40:45 [INFO]                     ],\n"
     ]
    },
    {
     "name": "stderr",
     "output_type": "stream",
     "text": [
      "2024-03-19 09:40:45 [INFO]                     'dtype': [\n"
     ]
    },
    {
     "name": "stderr",
     "output_type": "stream",
     "text": [
      "2024-03-19 09:40:45 [INFO]                         'nf4'\n"
     ]
    },
    {
     "name": "stderr",
     "output_type": "stream",
     "text": [
      "2024-03-19 09:40:45 [INFO]                     ],\n"
     ]
    },
    {
     "name": "stderr",
     "output_type": "stream",
     "text": [
      "2024-03-19 09:40:45 [INFO]                     'group_size': [\n"
     ]
    },
    {
     "name": "stderr",
     "output_type": "stream",
     "text": [
      "2024-03-19 09:40:45 [INFO]                         32\n"
     ]
    },
    {
     "name": "stderr",
     "output_type": "stream",
     "text": [
      "2024-03-19 09:40:45 [INFO]                     ],\n"
     ]
    },
    {
     "name": "stderr",
     "output_type": "stream",
     "text": [
      "2024-03-19 09:40:45 [INFO]                     'scheme': [\n"
     ]
    },
    {
     "name": "stderr",
     "output_type": "stream",
     "text": [
      "2024-03-19 09:40:45 [INFO]                         'sym'\n"
     ]
    },
    {
     "name": "stderr",
     "output_type": "stream",
     "text": [
      "2024-03-19 09:40:45 [INFO]                     ],\n"
     ]
    },
    {
     "name": "stderr",
     "output_type": "stream",
     "text": [
      "2024-03-19 09:40:45 [INFO]                     'algorithm': [\n"
     ]
    },
    {
     "name": "stderr",
     "output_type": "stream",
     "text": [
      "2024-03-19 09:40:45 [INFO]                         'RTN'\n"
     ]
    },
    {
     "name": "stderr",
     "output_type": "stream",
     "text": [
      "2024-03-19 09:40:45 [INFO]                     ]\n"
     ]
    },
    {
     "name": "stderr",
     "output_type": "stream",
     "text": [
      "2024-03-19 09:40:45 [INFO]                 }\n"
     ]
    },
    {
     "name": "stderr",
     "output_type": "stream",
     "text": [
      "2024-03-19 09:40:45 [INFO]             }\n"
     ]
    },
    {
     "name": "stderr",
     "output_type": "stream",
     "text": [
      "2024-03-19 09:40:45 [INFO]         },\n"
     ]
    },
    {
     "name": "stderr",
     "output_type": "stream",
     "text": [
      "2024-03-19 09:40:45 [INFO]         'outputs': [\n"
     ]
    },
    {
     "name": "stderr",
     "output_type": "stream",
     "text": [
      "2024-03-19 09:40:45 [INFO]         ],\n"
     ]
    },
    {
     "name": "stderr",
     "output_type": "stream",
     "text": [
      "2024-03-19 09:40:45 [INFO]         'quant_format': 'default',\n"
     ]
    },
    {
     "name": "stderr",
     "output_type": "stream",
     "text": [
      "2024-03-19 09:40:45 [INFO]         'quant_level': 'auto',\n"
     ]
    },
    {
     "name": "stderr",
     "output_type": "stream",
     "text": [
      "2024-03-19 09:40:45 [INFO]         'recipes': {\n"
     ]
    },
    {
     "name": "stderr",
     "output_type": "stream",
     "text": [
      "2024-03-19 09:40:45 [INFO]             'smooth_quant': False,\n"
     ]
    },
    {
     "name": "stderr",
     "output_type": "stream",
     "text": [
      "2024-03-19 09:40:45 [INFO]             'smooth_quant_args': {\n"
     ]
    },
    {
     "name": "stderr",
     "output_type": "stream",
     "text": [
      "2024-03-19 09:40:45 [INFO]             },\n"
     ]
    },
    {
     "name": "stderr",
     "output_type": "stream",
     "text": [
      "2024-03-19 09:40:45 [INFO]             'layer_wise_quant': False,\n"
     ]
    },
    {
     "name": "stderr",
     "output_type": "stream",
     "text": [
      "2024-03-19 09:40:45 [INFO]             'layer_wise_quant_args': {\n"
     ]
    },
    {
     "name": "stderr",
     "output_type": "stream",
     "text": [
      "2024-03-19 09:40:45 [INFO]             },\n"
     ]
    },
    {
     "name": "stderr",
     "output_type": "stream",
     "text": [
      "2024-03-19 09:40:45 [INFO]             'fast_bias_correction': False,\n"
     ]
    },
    {
     "name": "stderr",
     "output_type": "stream",
     "text": [
      "2024-03-19 09:40:45 [INFO]             'weight_correction': False,\n"
     ]
    },
    {
     "name": "stderr",
     "output_type": "stream",
     "text": [
      "2024-03-19 09:40:45 [INFO]             'gemm_to_matmul': True,\n"
     ]
    },
    {
     "name": "stderr",
     "output_type": "stream",
     "text": [
      "2024-03-19 09:40:45 [INFO]             'graph_optimization_level': None,\n"
     ]
    },
    {
     "name": "stderr",
     "output_type": "stream",
     "text": [
      "2024-03-19 09:40:45 [INFO]             'first_conv_or_matmul_quantization': True,\n"
     ]
    },
    {
     "name": "stderr",
     "output_type": "stream",
     "text": [
      "2024-03-19 09:40:45 [INFO]             'last_conv_or_matmul_quantization': True,\n"
     ]
    },
    {
     "name": "stderr",
     "output_type": "stream",
     "text": [
      "2024-03-19 09:40:45 [INFO]             'pre_post_process_quantization': True,\n"
     ]
    },
    {
     "name": "stderr",
     "output_type": "stream",
     "text": [
      "2024-03-19 09:40:45 [INFO]             'add_qdq_pair_to_weight': False,\n"
     ]
    },
    {
     "name": "stderr",
     "output_type": "stream",
     "text": [
      "2024-03-19 09:40:45 [INFO]             'optypes_to_exclude_output_quant': [\n"
     ]
    },
    {
     "name": "stderr",
     "output_type": "stream",
     "text": [
      "2024-03-19 09:40:45 [INFO]             ],\n"
     ]
    },
    {
     "name": "stderr",
     "output_type": "stream",
     "text": [
      "2024-03-19 09:40:45 [INFO]             'dedicated_qdq_pair': False,\n"
     ]
    },
    {
     "name": "stderr",
     "output_type": "stream",
     "text": [
      "2024-03-19 09:40:45 [INFO]             'rtn_args': {\n"
     ]
    },
    {
     "name": "stderr",
     "output_type": "stream",
     "text": [
      "2024-03-19 09:40:45 [INFO]                 'enable_full_range': False,\n"
     ]
    },
    {
     "name": "stderr",
     "output_type": "stream",
     "text": [
      "2024-03-19 09:40:45 [INFO]                 'enable_mse_search': False\n"
     ]
    },
    {
     "name": "stderr",
     "output_type": "stream",
     "text": [
      "2024-03-19 09:40:45 [INFO]             },\n"
     ]
    },
    {
     "name": "stderr",
     "output_type": "stream",
     "text": [
      "2024-03-19 09:40:45 [INFO]             'awq_args': {\n"
     ]
    },
    {
     "name": "stderr",
     "output_type": "stream",
     "text": [
      "2024-03-19 09:40:45 [INFO]             },\n"
     ]
    },
    {
     "name": "stderr",
     "output_type": "stream",
     "text": [
      "2024-03-19 09:40:45 [INFO]             'gptq_args': {\n"
     ]
    },
    {
     "name": "stderr",
     "output_type": "stream",
     "text": [
      "2024-03-19 09:40:45 [INFO]             },\n"
     ]
    },
    {
     "name": "stderr",
     "output_type": "stream",
     "text": [
      "2024-03-19 09:40:45 [INFO]             'teq_args': {\n"
     ]
    },
    {
     "name": "stderr",
     "output_type": "stream",
     "text": [
      "2024-03-19 09:40:45 [INFO]             }\n"
     ]
    },
    {
     "name": "stderr",
     "output_type": "stream",
     "text": [
      "2024-03-19 09:40:45 [INFO]         },\n"
     ]
    },
    {
     "name": "stderr",
     "output_type": "stream",
     "text": [
      "2024-03-19 09:40:45 [INFO]         'reduce_range': None,\n"
     ]
    },
    {
     "name": "stderr",
     "output_type": "stream",
     "text": [
      "2024-03-19 09:40:45 [INFO]         'TuningCriterion': {\n"
     ]
    },
    {
     "name": "stderr",
     "output_type": "stream",
     "text": [
      "2024-03-19 09:40:45 [INFO]             'max_trials': 100,\n"
     ]
    },
    {
     "name": "stderr",
     "output_type": "stream",
     "text": [
      "2024-03-19 09:40:45 [INFO]             'objective': [\n"
     ]
    },
    {
     "name": "stderr",
     "output_type": "stream",
     "text": [
      "2024-03-19 09:40:45 [INFO]                 'performance'\n"
     ]
    },
    {
     "name": "stderr",
     "output_type": "stream",
     "text": [
      "2024-03-19 09:40:45 [INFO]             ],\n"
     ]
    },
    {
     "name": "stderr",
     "output_type": "stream",
     "text": [
      "2024-03-19 09:40:45 [INFO]             'strategy': 'basic',\n"
     ]
    },
    {
     "name": "stderr",
     "output_type": "stream",
     "text": [
      "2024-03-19 09:40:45 [INFO]             'strategy_kwargs': None,\n"
     ]
    },
    {
     "name": "stderr",
     "output_type": "stream",
     "text": [
      "2024-03-19 09:40:45 [INFO]             'timeout': 0\n"
     ]
    },
    {
     "name": "stderr",
     "output_type": "stream",
     "text": [
      "2024-03-19 09:40:45 [INFO]         },\n"
     ]
    },
    {
     "name": "stderr",
     "output_type": "stream",
     "text": [
      "2024-03-19 09:40:45 [INFO]         'use_bf16': True\n"
     ]
    },
    {
     "name": "stderr",
     "output_type": "stream",
     "text": [
      "2024-03-19 09:40:45 [INFO]     }\n"
     ]
    },
    {
     "name": "stderr",
     "output_type": "stream",
     "text": [
      "2024-03-19 09:40:45 [INFO] }\n"
     ]
    },
    {
     "name": "stderr",
     "output_type": "stream",
     "text": [
      "2024-03-19 09:40:45 [WARNING] [Strategy] Please install `mpi4py` correctly if using distributed tuning; otherwise, ignore this warning.\n"
     ]
    },
    {
     "name": "stderr",
     "output_type": "stream",
     "text": [
      "2024-03-19 09:40:45 [INFO] Pass query framework capability elapsed time: 24.54 ms\n"
     ]
    },
    {
     "name": "stderr",
     "output_type": "stream",
     "text": [
      "2024-03-19 09:40:45 [INFO] Do not evaluate the baseline and quantize the model with default configuration.\n"
     ]
    },
    {
     "name": "stderr",
     "output_type": "stream",
     "text": [
      "2024-03-19 09:40:45 [INFO] Quantize the model with default config.\n"
     ]
    },
    {
     "name": "stderr",
     "output_type": "stream",
     "text": [
      "2024-03-19 09:40:45 [INFO] All algorithms to do: {'RTN'}\n"
     ]
    },
    {
     "name": "stderr",
     "output_type": "stream",
     "text": [
      "2024-03-19 09:40:45 [INFO] quantizing with the round-to-nearest algorithm\n"
     ]
    },
    {
     "name": "stderr",
     "output_type": "stream",
     "text": [
      "2024-03-19 10:59:23 [INFO] |******Mixed Precision Statistics******|\n"
     ]
    },
    {
     "name": "stderr",
     "output_type": "stream",
     "text": [
      "2024-03-19 10:59:23 [INFO] +---------+-------+-----------+--------+\n"
     ]
    },
    {
     "name": "stderr",
     "output_type": "stream",
     "text": [
      "2024-03-19 10:59:23 [INFO] | Op Type | Total |  A32W4G32 |  FP32  |\n"
     ]
    },
    {
     "name": "stderr",
     "output_type": "stream",
     "text": [
      "2024-03-19 10:59:23 [INFO] +---------+-------+-----------+--------+\n"
     ]
    },
    {
     "name": "stderr",
     "output_type": "stream",
     "text": [
      "2024-03-19 10:59:23 [INFO] |  Linear |  929  |    928    |   1    |\n"
     ]
    },
    {
     "name": "stderr",
     "output_type": "stream",
     "text": [
      "2024-03-19 10:59:23 [INFO] +---------+-------+-----------+--------+\n"
     ]
    },
    {
     "name": "stderr",
     "output_type": "stream",
     "text": [
      "2024-03-19 10:59:23 [INFO] Pass quantize model elapsed time: 4717849.78 ms\n"
     ]
    },
    {
     "name": "stderr",
     "output_type": "stream",
     "text": [
      "2024-03-19 10:59:23 [INFO] Save tuning history to /scratch/user/siweicui/mix_precision/nc_workspace/2024-03-19_09-36-14/./history.snapshot.\n"
     ]
    },
    {
     "name": "stderr",
     "output_type": "stream",
     "text": [
      "2024-03-19 10:59:23 [INFO] [Strategy] Found the model meets accuracy requirements, ending the tuning process.\n"
     ]
    },
    {
     "name": "stderr",
     "output_type": "stream",
     "text": [
      "2024-03-19 10:59:23 [INFO] Specified timeout or max trials is reached! Found a quantized model which meet accuracy goal. Exit.\n"
     ]
    },
    {
     "name": "stderr",
     "output_type": "stream",
     "text": [
      "2024-03-19 10:59:23 [INFO] Save deploy yaml to /scratch/user/siweicui/mix_precision/nc_workspace/2024-03-19_09-36-14/deploy.yaml\n"
     ]
    },
    {
     "name": "stderr",
     "output_type": "stream",
     "text": [
      "2024-03-19 11:00:26 [INFO] WeightOnlyQuant done.\n"
     ]
    },
    {
     "name": "stderr",
     "output_type": "stream",
     "text": [
      "The attention mask and the pad token id were not set. As a consequence, you may observe unexpected behavior. Please pass your input's `attention_mask` to obtain reliable results.\n"
     ]
    },
    {
     "name": "stderr",
     "output_type": "stream",
     "text": [
      "Setting `pad_token_id` to `eos_token_id`:2 for open-end generation.\n"
     ]
    },
    {
     "name": "stdout",
     "output_type": "stream",
     "text": [
      "<s> Once upon a time, there existed a little "
     ]
    },
    {
     "name": "stdout",
     "output_type": "stream",
     "text": [
      "girl, "
     ]
    },
    {
     "name": "stdout",
     "output_type": "stream",
     "text": [
      "who "
     ]
    },
    {
     "name": "stdout",
     "output_type": "stream",
     "text": [
      "was "
     ]
    },
    {
     "name": "stdout",
     "output_type": "stream",
     "text": [
      "the "
     ]
    },
    {
     "name": "stdout",
     "output_type": "stream",
     "text": [
      "most "
     ]
    },
    {
     "name": "stdout",
     "output_type": "stream",
     "text": [
      "beautiful "
     ]
    },
    {
     "name": "stdout",
     "output_type": "stream",
     "text": [
      "little "
     ]
    },
    {
     "name": "stdout",
     "output_type": "stream",
     "text": [
      "girl "
     ]
    },
    {
     "name": "stdout",
     "output_type": "stream",
     "text": [
      "in "
     ]
    },
    {
     "name": "stdout",
     "output_type": "stream",
     "text": [
      "the "
     ]
    },
    {
     "name": "stdout",
     "output_type": "stream",
     "text": [
      "world. "
     ]
    },
    {
     "name": "stdout",
     "output_type": "stream",
     "text": [
      "She "
     ]
    },
    {
     "name": "stdout",
     "output_type": "stream",
     "text": [
      "had "
     ]
    },
    {
     "name": "stdout",
     "output_type": "stream",
     "text": [
      "long, "
     ]
    },
    {
     "name": "stdout",
     "output_type": "stream",
     "text": [
      "golden "
     ]
    },
    {
     "name": "stdout",
     "output_type": "stream",
     "text": [
      "hair, "
     ]
    },
    {
     "name": "stdout",
     "output_type": "stream",
     "text": [
      "and "
     ]
    },
    {
     "name": "stdout",
     "output_type": "stream",
     "text": [
      "the "
     ]
    },
    {
     "name": "stdout",
     "output_type": "stream",
     "text": [
      "most "
     ]
    },
    {
     "name": "stdout",
     "output_type": "stream",
     "text": [
      "beautiful "
     ]
    },
    {
     "name": "stdout",
     "output_type": "stream",
     "text": [
      "blue "
     ]
    },
    {
     "name": "stdout",
     "output_type": "stream",
     "text": [
      "eyes. "
     ]
    },
    {
     "name": "stdout",
     "output_type": "stream",
     "text": [
      "She "
     ]
    },
    {
     "name": "stdout",
     "output_type": "stream",
     "text": [
      "was "
     ]
    },
    {
     "name": "stdout",
     "output_type": "stream",
     "text": [
      "so "
     ]
    },
    {
     "name": "stdout",
     "output_type": "stream",
     "text": [
      "beautiful "
     ]
    },
    {
     "name": "stdout",
     "output_type": "stream",
     "text": [
      "that "
     ]
    },
    {
     "name": "stdout",
     "output_type": "stream",
     "text": [
      "everyone "
     ]
    },
    {
     "name": "stdout",
     "output_type": "stream",
     "text": [
      "who "
     ]
    },
    {
     "name": "stdout",
     "output_type": "stream",
     "text": [
      "saw "
     ]
    },
    {
     "name": "stdout",
     "output_type": "stream",
     "text": [
      "her "
     ]
    },
    {
     "name": "stdout",
     "output_type": "stream",
     "text": [
      "fell "
     ]
    },
    {
     "name": "stdout",
     "output_type": "stream",
     "text": [
      "in "
     ]
    },
    {
     "name": "stdout",
     "output_type": "stream",
     "text": [
      "love "
     ]
    },
    {
     "name": "stdout",
     "output_type": "stream",
     "text": [
      "with "
     ]
    },
    {
     "name": "stdout",
     "output_type": "stream",
     "text": [
      "her.\n"
     ]
    },
    {
     "name": "stdout",
     "output_type": "stream",
     "text": [
      "\n"
     ]
    },
    {
     "name": "stdout",
     "output_type": "stream",
     "text": [
      "One "
     ]
    },
    {
     "name": "stdout",
     "output_type": "stream",
     "text": [
      "day, "
     ]
    },
    {
     "name": "stdout",
     "output_type": "stream",
     "text": [
      "a "
     ]
    },
    {
     "name": "stdout",
     "output_type": "stream",
     "text": [
      "wicked "
     ]
    },
    {
     "name": "stdout",
     "output_type": "stream",
     "text": [
      "witch "
     ]
    },
    {
     "name": "stdout",
     "output_type": "stream",
     "text": [
      "saw "
     ]
    },
    {
     "name": "stdout",
     "output_type": "stream",
     "text": [
      "the "
     ]
    },
    {
     "name": "stdout",
     "output_type": "stream",
     "text": [
      "little "
     ]
    },
    {
     "name": "stdout",
     "output_type": "stream",
     "text": [
      "girl, "
     ]
    },
    {
     "name": "stdout",
     "output_type": "stream",
     "text": [
      "and "
     ]
    },
    {
     "name": "stdout",
     "output_type": "stream",
     "text": [
      "she "
     ]
    },
    {
     "name": "stdout",
     "output_type": "stream",
     "text": [
      "became "
     ]
    },
    {
     "name": "stdout",
     "output_type": "stream",
     "text": [
      "so "
     ]
    },
    {
     "name": "stdout",
     "output_type": "stream",
     "text": [
      "jealous "
     ]
    },
    {
     "name": "stdout",
     "output_type": "stream",
     "text": [
      "of "
     ]
    },
    {
     "name": "stdout",
     "output_type": "stream",
     "text": [
      "her "
     ]
    },
    {
     "name": "stdout",
     "output_type": "stream",
     "text": [
      "beauty "
     ]
    },
    {
     "name": "stdout",
     "output_type": "stream",
     "text": [
      "that "
     ]
    },
    {
     "name": "stdout",
     "output_type": "stream",
     "text": [
      "she "
     ]
    },
    {
     "name": "stdout",
     "output_type": "stream",
     "text": [
      "decided "
     ]
    },
    {
     "name": "stdout",
     "output_type": "stream",
     "text": [
      "to "
     ]
    },
    {
     "name": "stdout",
     "output_type": "stream",
     "text": [
      "kidnap "
     ]
    },
    {
     "name": "stdout",
     "output_type": "stream",
     "text": [
      "her. "
     ]
    },
    {
     "name": "stdout",
     "output_type": "stream",
     "text": [
      "The "
     ]
    },
    {
     "name": "stdout",
     "output_type": "stream",
     "text": [
      "witch "
     ]
    },
    {
     "name": "stdout",
     "output_type": "stream",
     "text": [
      "took "
     ]
    },
    {
     "name": "stdout",
     "output_type": "stream",
     "text": [
      "the "
     ]
    },
    {
     "name": "stdout",
     "output_type": "stream",
     "text": [
      "little "
     ]
    },
    {
     "name": "stdout",
     "output_type": "stream",
     "text": [
      "girl "
     ]
    },
    {
     "name": "stdout",
     "output_type": "stream",
     "text": [
      "to "
     ]
    },
    {
     "name": "stdout",
     "output_type": "stream",
     "text": [
      "her "
     ]
    },
    {
     "name": "stdout",
     "output_type": "stream",
     "text": [
      "castle, "
     ]
    },
    {
     "name": "stdout",
     "output_type": "stream",
     "text": [
      "deep "
     ]
    },
    {
     "name": "stdout",
     "output_type": "stream",
     "text": [
      "in "
     ]
    },
    {
     "name": "stdout",
     "output_type": "stream",
     "text": [
      "the "
     ]
    },
    {
     "name": "stdout",
     "output_type": "stream",
     "text": [
      "forest, "
     ]
    },
    {
     "name": "stdout",
     "output_type": "stream",
     "text": [
      "and "
     ]
    },
    {
     "name": "stdout",
     "output_type": "stream",
     "text": [
      "locked "
     ]
    },
    {
     "name": "stdout",
     "output_type": "stream",
     "text": [
      "her "
     ]
    },
    {
     "name": "stdout",
     "output_type": "stream",
     "text": [
      "up "
     ]
    },
    {
     "name": "stdout",
     "output_type": "stream",
     "text": [
      "in "
     ]
    },
    {
     "name": "stdout",
     "output_type": "stream",
     "text": [
      "a "
     ]
    },
    {
     "name": "stdout",
     "output_type": "stream",
     "text": [
      "tall "
     ]
    },
    {
     "name": "stdout",
     "output_type": "stream",
     "text": [
      "tower.\n"
     ]
    },
    {
     "name": "stdout",
     "output_type": "stream",
     "text": [
      "\n"
     ]
    },
    {
     "name": "stdout",
     "output_type": "stream",
     "text": [
      "The "
     ]
    },
    {
     "name": "stdout",
     "output_type": "stream",
     "text": [
      "little "
     ]
    },
    {
     "name": "stdout",
     "output_type": "stream",
     "text": [
      "girl "
     ]
    },
    {
     "name": "stdout",
     "output_type": "stream",
     "text": [
      "was "
     ]
    },
    {
     "name": "stdout",
     "output_type": "stream",
     "text": [
      "very "
     ]
    },
    {
     "name": "stdout",
     "output_type": "stream",
     "text": [
      "sad, "
     ]
    },
    {
     "name": "stdout",
     "output_type": "stream",
     "text": [
      "but "
     ]
    },
    {
     "name": "stdout",
     "output_type": "stream",
     "text": [
      "she "
     ]
    },
    {
     "name": "stdout",
     "output_type": "stream",
     "text": [
      "was "
     ]
    },
    {
     "name": "stdout",
     "output_type": "stream",
     "text": [
      "also "
     ]
    },
    {
     "name": "stdout",
     "output_type": "stream",
     "text": [
      "very "
     ]
    },
    {
     "name": "stdout",
     "output_type": "stream",
     "text": [
      "brave. "
     ]
    },
    {
     "name": "stdout",
     "output_type": "stream",
     "text": [
      "She "
     ]
    },
    {
     "name": "stdout",
     "output_type": "stream",
     "text": [
      "knew "
     ]
    },
    {
     "name": "stdout",
     "output_type": "stream",
     "text": [
      "that "
     ]
    },
    {
     "name": "stdout",
     "output_type": "stream",
     "text": [
      "she "
     ]
    },
    {
     "name": "stdout",
     "output_type": "stream",
     "text": [
      "had "
     ]
    },
    {
     "name": "stdout",
     "output_type": "stream",
     "text": [
      "to "
     ]
    },
    {
     "name": "stdout",
     "output_type": "stream",
     "text": [
      "find "
     ]
    },
    {
     "name": "stdout",
     "output_type": "stream",
     "text": [
      "a "
     ]
    },
    {
     "name": "stdout",
     "output_type": "stream",
     "text": [
      "way "
     ]
    },
    {
     "name": "stdout",
     "output_type": "stream",
     "text": [
      "to "
     ]
    },
    {
     "name": "stdout",
     "output_type": "stream",
     "text": [
      "escape "
     ]
    },
    {
     "name": "stdout",
     "output_type": "stream",
     "text": [
      "from "
     ]
    },
    {
     "name": "stdout",
     "output_type": "stream",
     "text": [
      "the "
     ]
    },
    {
     "name": "stdout",
     "output_type": "stream",
     "text": [
      "tower. "
     ]
    },
    {
     "name": "stdout",
     "output_type": "stream",
     "text": [
      "She "
     ]
    },
    {
     "name": "stdout",
     "output_type": "stream",
     "text": [
      "looked "
     ]
    },
    {
     "name": "stdout",
     "output_type": "stream",
     "text": [
      "out "
     ]
    },
    {
     "name": "stdout",
     "output_type": "stream",
     "text": [
      "of "
     ]
    },
    {
     "name": "stdout",
     "output_type": "stream",
     "text": [
      "the "
     ]
    },
    {
     "name": "stdout",
     "output_type": "stream",
     "text": [
      "window "
     ]
    },
    {
     "name": "stdout",
     "output_type": "stream",
     "text": [
      "and "
     ]
    },
    {
     "name": "stdout",
     "output_type": "stream",
     "text": [
      "saw "
     ]
    },
    {
     "name": "stdout",
     "output_type": "stream",
     "text": [
      "a "
     ]
    },
    {
     "name": "stdout",
     "output_type": "stream",
     "text": [
      "big, "
     ]
    },
    {
     "name": "stdout",
     "output_type": "stream",
     "text": [
      "strong "
     ]
    },
    {
     "name": "stdout",
     "output_type": "stream",
     "text": [
      "tree "
     ]
    },
    {
     "name": "stdout",
     "output_type": "stream",
     "text": [
      "growing "
     ]
    },
    {
     "name": "stdout",
     "output_type": "stream",
     "text": [
      "near "
     ]
    },
    {
     "name": "stdout",
     "output_type": "stream",
     "text": [
      "the "
     ]
    },
    {
     "name": "stdout",
     "output_type": "stream",
     "text": [
      "tower. "
     ]
    },
    {
     "name": "stdout",
     "output_type": "stream",
     "text": [
      "She "
     ]
    },
    {
     "name": "stdout",
     "output_type": "stream",
     "text": [
      "knew "
     ]
    },
    {
     "name": "stdout",
     "output_type": "stream",
     "text": [
      "that "
     ]
    },
    {
     "name": "stdout",
     "output_type": "stream",
     "text": [
      "if "
     ]
    },
    {
     "name": "stdout",
     "output_type": "stream",
     "text": [
      "she "
     ]
    },
    {
     "name": "stdout",
     "output_type": "stream",
     "text": [
      "could "
     ]
    },
    {
     "name": "stdout",
     "output_type": "stream",
     "text": [
      "climb "
     ]
    },
    {
     "name": "stdout",
     "output_type": "stream",
     "text": [
      "down "
     ]
    },
    {
     "name": "stdout",
     "output_type": "stream",
     "text": [
      "the "
     ]
    },
    {
     "name": "stdout",
     "output_type": "stream",
     "text": [
      "tree, "
     ]
    },
    {
     "name": "stdout",
     "output_type": "stream",
     "text": [
      "she "
     ]
    },
    {
     "name": "stdout",
     "output_type": "stream",
     "text": [
      "could "
     ]
    },
    {
     "name": "stdout",
     "output_type": "stream",
     "text": [
      "escape "
     ]
    },
    {
     "name": "stdout",
     "output_type": "stream",
     "text": [
      "from "
     ]
    },
    {
     "name": "stdout",
     "output_type": "stream",
     "text": [
      "the "
     ]
    },
    {
     "name": "stdout",
     "output_type": "stream",
     "text": [
      "tower "
     ]
    },
    {
     "name": "stdout",
     "output_type": "stream",
     "text": [
      "and "
     ]
    },
    {
     "name": "stdout",
     "output_type": "stream",
     "text": [
      "run "
     ]
    },
    {
     "name": "stdout",
     "output_type": "stream",
     "text": [
      "away "
     ]
    },
    {
     "name": "stdout",
     "output_type": "stream",
     "text": [
      "from "
     ]
    },
    {
     "name": "stdout",
     "output_type": "stream",
     "text": [
      "the "
     ]
    },
    {
     "name": "stdout",
     "output_type": "stream",
     "text": [
      "witch.\n"
     ]
    },
    {
     "name": "stdout",
     "output_type": "stream",
     "text": [
      "\n"
     ]
    },
    {
     "name": "stdout",
     "output_type": "stream",
     "text": [
      "But "
     ]
    },
    {
     "name": "stdout",
     "output_type": "stream",
     "text": [
      "the "
     ]
    },
    {
     "name": "stdout",
     "output_type": "stream",
     "text": [
      "little "
     ]
    },
    {
     "name": "stdout",
     "output_type": "stream",
     "text": [
      "girl "
     ]
    },
    {
     "name": "stdout",
     "output_type": "stream",
     "text": [
      "was "
     ]
    },
    {
     "name": "stdout",
     "output_type": "stream",
     "text": [
      "too "
     ]
    },
    {
     "name": "stdout",
     "output_type": "stream",
     "text": [
      "afraid "
     ]
    },
    {
     "name": "stdout",
     "output_type": "stream",
     "text": [
      "to "
     ]
    },
    {
     "name": "stdout",
     "output_type": "stream",
     "text": [
      "climb "
     ]
    },
    {
     "name": "stdout",
     "output_type": "stream",
     "text": [
      "down "
     ]
    },
    {
     "name": "stdout",
     "output_type": "stream",
     "text": [
      "the "
     ]
    },
    {
     "name": "stdout",
     "output_type": "stream",
     "text": [
      "tree. "
     ]
    },
    {
     "name": "stdout",
     "output_type": "stream",
     "text": [
      "She "
     ]
    },
    {
     "name": "stdout",
     "output_type": "stream",
     "text": [
      "was "
     ]
    },
    {
     "name": "stdout",
     "output_type": "stream",
     "text": [
      "afraid "
     ]
    },
    {
     "name": "stdout",
     "output_type": "stream",
     "text": [
      "of "
     ]
    },
    {
     "name": "stdout",
     "output_type": "stream",
     "text": [
      "heights, "
     ]
    },
    {
     "name": "stdout",
     "output_type": "stream",
     "text": [
      "and "
     ]
    },
    {
     "name": "stdout",
     "output_type": "stream",
     "text": [
      "she "
     ]
    },
    {
     "name": "stdout",
     "output_type": "stream",
     "text": [
      "was "
     ]
    },
    {
     "name": "stdout",
     "output_type": "stream",
     "text": [
      "afraid "
     ]
    },
    {
     "name": "stdout",
     "output_type": "stream",
     "text": [
      "of "
     ]
    },
    {
     "name": "stdout",
     "output_type": "stream",
     "text": [
      "falling. "
     ]
    },
    {
     "name": "stdout",
     "output_type": "stream",
     "text": [
      "She "
     ]
    },
    {
     "name": "stdout",
     "output_type": "stream",
     "text": [
      "knew "
     ]
    },
    {
     "name": "stdout",
     "output_type": "stream",
     "text": [
      "that "
     ]
    },
    {
     "name": "stdout",
     "output_type": "stream",
     "text": [
      "she "
     ]
    },
    {
     "name": "stdout",
     "output_type": "stream",
     "text": [
      "needed "
     ]
    },
    {
     "name": "stdout",
     "output_type": "stream",
     "text": [
      "someone "
     ]
    },
    {
     "name": "stdout",
     "output_type": "stream",
     "text": [
      "to "
     ]
    },
    {
     "name": "stdout",
     "output_type": "stream",
     "text": [
      "help "
     ]
    },
    {
     "name": "stdout",
     "output_type": "stream",
     "text": [
      "her.\n"
     ]
    },
    {
     "name": "stdout",
     "output_type": "stream",
     "text": [
      "\n"
     ]
    },
    {
     "name": "stdout",
     "output_type": "stream",
     "text": [
      "Just "
     ]
    },
    {
     "name": "stdout",
     "output_type": "stream",
     "text": [
      "then, "
     ]
    },
    {
     "name": "stdout",
     "output_type": "stream",
     "text": [
      "a "
     ]
    },
    {
     "name": "stdout",
     "output_type": "stream",
     "text": [
      "kind "
     ]
    },
    {
     "name": "stdout",
     "output_type": "stream",
     "text": [
      "old "
     ]
    },
    {
     "name": "stdout",
     "output_type": "stream",
     "text": [
      "man "
     ]
    },
    {
     "name": "stdout",
     "output_type": "stream",
     "text": [
      "appeared "
     ]
    },
    {
     "name": "stdout",
     "output_type": "stream",
     "text": [
      "at "
     ]
    },
    {
     "name": "stdout",
     "output_type": "stream",
     "text": [
      "the "
     ]
    },
    {
     "name": "stdout",
     "output_type": "stream",
     "text": [
      "foot "
     ]
    },
    {
     "name": "stdout",
     "output_type": "stream",
     "text": [
      "of "
     ]
    },
    {
     "name": "stdout",
     "output_type": "stream",
     "text": [
      "the "
     ]
    },
    {
     "name": "stdout",
     "output_type": "stream",
     "text": [
      "tree. "
     ]
    },
    {
     "name": "stdout",
     "output_type": "stream",
     "text": [
      "He "
     ]
    },
    {
     "name": "stdout",
     "output_type": "stream",
     "text": [
      "saw "
     ]
    },
    {
     "name": "stdout",
     "output_type": "stream",
     "text": [
      "the "
     ]
    },
    {
     "name": "stdout",
     "output_type": "stream",
     "text": [
      "little "
     ]
    },
    {
     "name": "stdout",
     "output_type": "stream",
     "text": [
      "girl "
     ]
    },
    {
     "name": "stdout",
     "output_type": "stream",
     "text": [
      "looking "
     ]
    },
    {
     "name": "stdout",
     "output_type": "stream",
     "text": [
      "out "
     ]
    },
    {
     "name": "stdout",
     "output_type": "stream",
     "text": [
      "of "
     ]
    },
    {
     "name": "stdout",
     "output_type": "stream",
     "text": [
      "the "
     ]
    },
    {
     "name": "stdout",
     "output_type": "stream",
     "text": [
      "window, "
     ]
    },
    {
     "name": "stdout",
     "output_type": "stream",
     "text": [
      "and "
     ]
    },
    {
     "name": "stdout",
     "output_type": "stream",
     "text": [
      "he "
     ]
    },
    {
     "name": "stdout",
     "output_type": "stream",
     "text": [
      "knew "
     ]
    },
    {
     "name": "stdout",
     "output_type": "stream",
     "text": [
      "that "
     ]
    },
    {
     "name": "stdout",
     "output_type": "stream",
     "text": [
      "she "
     ]
    },
    {
     "name": "stdout",
     "output_type": "stream",
     "text": [
      "was "
     ]
    },
    {
     "name": "stdout",
     "output_type": "stream",
     "text": [
      "in "
     ]
    },
    {
     "name": "stdout",
     "output_type": "stream",
     "text": [
      "trouble. "
     ]
    },
    {
     "name": "stdout",
     "output_type": "stream",
     "text": [
      "He "
     ]
    },
    {
     "name": "stdout",
     "output_type": "stream",
     "text": [
      "called "
     ]
    },
    {
     "name": "stdout",
     "output_type": "stream",
     "text": [
      "up "
     ]
    },
    {
     "name": "stdout",
     "output_type": "stream",
     "text": [
      "to "
     ]
    },
    {
     "name": "stdout",
     "output_type": "stream",
     "text": [
      "her "
     ]
    },
    {
     "name": "stdout",
     "output_type": "stream",
     "text": [
      "and "
     ]
    },
    {
     "name": "stdout",
     "output_type": "stream",
     "text": [
      "asked "
     ]
    },
    {
     "name": "stdout",
     "output_type": "stream",
     "text": [
      "her "
     ]
    },
    {
     "name": "stdout",
     "output_type": "stream",
     "text": [
      "what "
     ]
    },
    {
     "name": "stdout",
     "output_type": "stream",
     "text": [
      "was "
     ]
    },
    {
     "name": "stdout",
     "output_type": "stream",
     "text": [
      "wrong.\n"
     ]
    },
    {
     "name": "stdout",
     "output_type": "stream",
     "text": [
      "\n"
     ]
    },
    {
     "name": "stdout",
     "output_type": "stream",
     "text": [
      "The "
     ]
    },
    {
     "name": "stdout",
     "output_type": "stream",
     "text": [
      "little "
     ]
    },
    {
     "name": "stdout",
     "output_type": "stream",
     "text": [
      "girl "
     ]
    },
    {
     "name": "stdout",
     "output_type": "stream",
     "text": [
      "told "
     ]
    },
    {
     "name": "stdout",
     "output_type": "stream",
     "text": [
      "the "
     ]
    },
    {
     "name": "stdout",
     "output_type": "stream",
     "text": [
      "old "
     ]
    },
    {
     "name": "stdout",
     "output_type": "stream",
     "text": [
      "man "
     ]
    },
    {
     "name": "stdout",
     "output_type": "stream",
     "text": [
      "about "
     ]
    },
    {
     "name": "stdout",
     "output_type": "stream",
     "text": [
      "the "
     ]
    },
    {
     "name": "stdout",
     "output_type": "stream",
     "text": [
      "wicked "
     ]
    },
    {
     "name": "stdout",
     "output_type": "stream",
     "text": [
      "witch, "
     ]
    },
    {
     "name": "stdout",
     "output_type": "stream",
     "text": [
      "and "
     ]
    },
    {
     "name": "stdout",
     "output_type": "stream",
     "text": [
      "how "
     ]
    },
    {
     "name": "stdout",
     "output_type": "stream",
     "text": [
      "she "
     ]
    },
    {
     "name": "stdout",
     "output_type": "stream",
     "text": [
      "had "
     ]
    },
    {
     "name": "stdout",
     "output_type": "stream",
     "text": [
      "been "
     ]
    },
    {
     "name": "stdout",
     "output_type": "stream",
     "text": [
      "kidnapped "
     ]
    },
    {
     "name": "stdout",
     "output_type": "stream",
     "text": [
      "and "
     ]
    },
    {
     "name": "stdout",
     "output_type": "stream",
     "text": [
      "locked "
     ]
    },
    {
     "name": "stdout",
     "output_type": "stream",
     "text": [
      "up "
     ]
    },
    {
     "name": "stdout",
     "output_type": "stream",
     "text": [
      "in "
     ]
    },
    {
     "name": "stdout",
     "output_type": "stream",
     "text": [
      "the "
     ]
    },
    {
     "name": "stdout",
     "output_type": "stream",
     "text": [
      "tower. "
     ]
    },
    {
     "name": "stdout",
     "output_type": "stream",
     "text": [
      "She "
     ]
    },
    {
     "name": "stdout",
     "output_type": "stream",
     "text": [
      "asked "
     ]
    },
    {
     "name": "stdout",
     "output_type": "stream",
     "text": [
      "the "
     ]
    },
    {
     "name": "stdout",
     "output_type": "stream",
     "text": [
      "old "
     ]
    },
    {
     "name": "stdout",
     "output_type": "stream",
     "text": [
      "man "
     ]
    },
    {
     "name": "stdout",
     "output_type": "stream",
     "text": [
      "if "
     ]
    },
    {
     "name": "stdout",
     "output_type": "stream",
     "text": [
      "he "
     ]
    },
    {
     "name": "stdout",
     "output_type": "stream",
     "text": [
      "could "
     ]
    },
    {
     "name": "stdout",
     "output_type": "stream",
     "text": [
      "help "
     ]
    },
    {
     "name": "stdout",
     "output_type": "stream",
     "text": [
      "her "
     ]
    },
    {
     "name": "stdout",
     "output_type": "stream",
     "text": [
      "climb "
     ]
    },
    {
     "name": "stdout",
     "output_type": "stream",
     "text": [
      "down "
     ]
    },
    {
     "name": "stdout",
     "output_type": "stream",
     "text": [
      "the "
     ]
    },
    {
     "name": "stdout",
     "output_type": "stream",
     "text": [
      "tree.\n"
     ]
    },
    {
     "name": "stdout",
     "output_type": "stream",
     "text": [
      "\n"
     ]
    }
   ],
   "source": [
    "\n",
    "model = AutoModelForCausalLM.from_pretrained(model_name, load_in_4bit=True, cache_dir=\"/scratch/user/siweicui/LLM/huggingface\")\n",
    "outputs = model.generate(inputs, streamer=streamer, max_new_tokens=300)"
   ]
  },
  {
   "cell_type": "code",
   "execution_count": 5,
   "metadata": {
    "execution": {
     "iopub.execute_input": "2024-03-19T16:01:41.984980Z",
     "iopub.status.busy": "2024-03-19T16:01:41.984581Z",
     "iopub.status.idle": "2024-03-19T16:01:42.019495Z",
     "shell.execute_reply": "2024-03-19T16:01:42.018668Z"
    }
   },
   "outputs": [
    {
     "name": "stdout",
     "output_type": "stream",
     "text": [
      "Once upon a time, there existed a little girl, who was the most beautiful little girl in the world. She had long, golden hair, and the most beautiful blue eyes. She was so beautiful that everyone who saw her fell in love with her.\n",
      "\n",
      "One day, a wicked witch saw the little girl, and she became so jealous of her beauty that she decided to kidnap her. The witch took the little girl to her castle, deep in the forest, and locked her up in a tall tower.\n",
      "\n",
      "The little girl was very sad, but she was also very brave. She knew that she had to find a way to escape from the tower. She looked out of the window and saw a big, strong tree growing near the tower. She knew that if she could climb down the tree, she could escape from the tower and run away from the witch.\n",
      "\n",
      "But the little girl was too afraid to climb down the tree. She was afraid of heights, and she was afraid of falling. She knew that she needed someone to help her.\n",
      "\n",
      "Just then, a kind old man appeared at the foot of the tree. He saw the little girl looking out of the window, and he knew that she was in trouble. He called up to her and asked her what was wrong.\n",
      "\n",
      "The little girl told the old man about the wicked witch, and how she had been kidnapped and locked up in the tower. She asked the old man if he could help her climb down the tree.\n",
      "\n"
     ]
    }
   ],
   "source": [
    "print(tokenizer.decode(outputs[0], skip_special_tokens=True))\n"
   ]
  },
  {
   "cell_type": "code",
   "execution_count": null,
   "metadata": {},
   "outputs": [],
   "source": []
  }
 ],
 "metadata": {
  "kernelspec": {
   "display_name": "llm",
   "language": "python",
   "name": "python3"
  },
  "language_info": {
   "codemirror_mode": {
    "name": "ipython",
    "version": 3
   },
   "file_extension": ".py",
   "mimetype": "text/x-python",
   "name": "python",
   "nbconvert_exporter": "python",
   "pygments_lexer": "ipython3",
   "version": "3.11.4"
  }
 },
 "nbformat": 4,
 "nbformat_minor": 2
}
