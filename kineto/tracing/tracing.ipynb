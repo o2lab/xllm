{
 "cells": [
  {
   "cell_type": "code",
   "execution_count": 1,
   "metadata": {},
   "outputs": [],
   "source": [
    "import torch\n",
    "from torch.utils.data import Dataset\n",
    "from torch.utils.data.dataloader import DataLoader\n",
    "from mingpt.utils import set_seed\n"
   ]
  },
  {
   "cell_type": "code",
   "execution_count": 2,
   "metadata": {},
   "outputs": [],
   "source": [
    "\n",
    "set_seed(1234)\n",
    "import pickle\n"
   ]
  },
  {
   "cell_type": "code",
   "execution_count": 3,
   "metadata": {},
   "outputs": [],
   "source": [
    "class SortDataset(Dataset):\n",
    "    \"\"\" \n",
    "    Dataset for the Sort problem. E.g. for problem length 6:\n",
    "    Input: 0 0 2 1 0 1 -> Output: 0 0 0 1 1 2\n",
    "    Which will feed into the transformer concatenated as:\n",
    "    input:  0 0 2 1 0 1 0 0 0 1 1\n",
    "    output: I I I I I 0 0 0 1 1 2\n",
    "    where I is \"ignore\", as the transformer is reading the input sequence\n",
    "    \"\"\"\n",
    "\n",
    "    def __init__(self, split, length=6, num_digits=3):\n",
    "        assert split in {'train', 'test'}\n",
    "        self.split = split\n",
    "        self.length = length\n",
    "        self.num_digits = num_digits\n",
    "    \n",
    "    def __len__(self):\n",
    "        return 10000 # ...\n",
    "    \n",
    "    def get_vocab_size(self):\n",
    "        return self.num_digits\n",
    "    \n",
    "    def get_block_size(self):\n",
    "        # the length of the sequence that will feed into transformer, \n",
    "        # containing concatenated input and the output, but -1 because\n",
    "        # the transformer starts making predictions at the last input element\n",
    "        return self.length * 2 - 1\n",
    "\n",
    "    def __getitem__(self, idx):\n",
    "        \n",
    "        # use rejection sampling to generate an input example from the desired split\n",
    "        while True:\n",
    "            # generate some random integers\n",
    "            inp = torch.randint(self.num_digits, size=(self.length,), dtype=torch.long)\n",
    "            # half of the time let's try to boost the number of examples that \n",
    "            # have a large number of repeats, as this is what the model seems to struggle\n",
    "            # with later in training, and they are kind of rate\n",
    "            if torch.rand(1).item() < 0.5:\n",
    "                if inp.unique().nelement() > self.length // 2:\n",
    "                    # too many unqiue digits, re-sample\n",
    "                    continue\n",
    "            # figure out if this generated example is train or test based on its hash\n",
    "            h = hash(pickle.dumps(inp.tolist()))\n",
    "            inp_split = 'test' if h % 4 == 0 else 'train' # designate 25% of examples as test\n",
    "            if inp_split == self.split:\n",
    "                break # ok\n",
    "        \n",
    "        # solve the task: i.e. sort\n",
    "        sol = torch.sort(inp)[0]\n",
    "\n",
    "        # concatenate the problem specification and the solution\n",
    "        cat = torch.cat((inp, sol), dim=0)\n",
    "\n",
    "        # the inputs to the transformer will be the offset sequence\n",
    "        x = cat[:-1].clone()\n",
    "        y = cat[1:].clone()\n",
    "        # we only want to predict at output locations, mask out the loss at the input locations\n",
    "        y[:self.length-1] = -1\n",
    "        return x, y"
   ]
  },
  {
   "cell_type": "code",
   "execution_count": 4,
   "metadata": {},
   "outputs": [
    {
     "name": "stdout",
     "output_type": "stream",
     "text": [
      "0 -1\n",
      "0 -1\n",
      "0 -1\n",
      "2 -1\n",
      "2 -1\n",
      "1 0\n",
      "0 0\n",
      "0 0\n",
      "0 1\n",
      "1 2\n",
      "2 2\n"
     ]
    }
   ],
   "source": [
    "# print an example instance of the dataset\n",
    "train_dataset = SortDataset('train')\n",
    "test_dataset = SortDataset('test')\n",
    "x, y = train_dataset[0]\n",
    "for a, b in zip(x,y):\n",
    "    print(int(a),int(b))"
   ]
  },
  {
   "cell_type": "code",
   "execution_count": null,
   "metadata": {},
   "outputs": [],
   "source": []
  },
  {
   "cell_type": "code",
   "execution_count": 5,
   "metadata": {},
   "outputs": [
    {
     "name": "stdout",
     "output_type": "stream",
     "text": [
      "number of parameters: 0.09M\n"
     ]
    }
   ],
   "source": [
    "# create a GPT instance\n",
    "from mingpt.model import GPT\n",
    "\n",
    "model_config = GPT.get_default_config()\n",
    "model_config.model_type = 'gpt-nano'\n",
    "model_config.vocab_size = train_dataset.get_vocab_size()\n",
    "model_config.block_size = train_dataset.get_block_size()\n",
    "model = GPT(model_config)"
   ]
  },
  {
   "cell_type": "code",
   "execution_count": 6,
   "metadata": {},
   "outputs": [
    {
     "name": "stdout",
     "output_type": "stream",
     "text": [
      "running on device cuda\n"
     ]
    }
   ],
   "source": [
    "# create a Trainer object\n",
    "from mingpt.trainer import Trainer\n",
    "\n",
    "train_config = Trainer.get_default_config()\n",
    "train_config.learning_rate = 5e-4 # the model we're using is so small that we can go a bit faster\n",
    "train_config.max_iters = 1000\n",
    "train_config.num_workers = 0\n",
    "trainer = Trainer(train_config, model, train_dataset)"
   ]
  },
  {
   "cell_type": "code",
   "execution_count": 7,
   "metadata": {},
   "outputs": [
    {
     "name": "stdout",
     "output_type": "stream",
     "text": [
      "iter_dt 0.00ms; iter 0: train loss 1.10826\n"
     ]
    },
    {
     "name": "stderr",
     "output_type": "stream",
     "text": [
      "[W kineto_shim.cpp:343] Profiler is not initialized: skipping step() invocation\n",
      "[W kineto_shim.cpp:343] Profiler is not initialized: skipping step() invocation\n",
      "[W kineto_shim.cpp:343] Profiler is not initialized: skipping step() invocation\n",
      "[W kineto_shim.cpp:343] Profiler is not initialized: skipping step() invocation\n",
      "[W kineto_shim.cpp:343] Profiler is not initialized: skipping step() invocation\n",
      "[W kineto_shim.cpp:343] Profiler is not initialized: skipping step() invocation\n",
      "[W kineto_shim.cpp:343] Profiler is not initialized: skipping step() invocation\n",
      "[W kineto_shim.cpp:343] Profiler is not initialized: skipping step() invocation\n",
      "[W kineto_shim.cpp:343] Profiler is not initialized: skipping step() invocation\n",
      "[W kineto_shim.cpp:157] Cannot run range profiler with CPU activities, please only use CUDA activity type\n",
      "STAGE:2024-01-22 23:34:18 62472:62472 ActivityProfilerController.cpp:311] Completed Stage: Warm Up\n"
     ]
    },
    {
     "name": "stdout",
     "output_type": "stream",
     "text": [
      "iter_dt 37.76ms; iter 100: train loss 0.20591\n"
     ]
    },
    {
     "name": "stderr",
     "output_type": "stream",
     "text": [
      "STAGE:2024-01-22 23:34:23 62472:62472 ActivityProfilerController.cpp:317] Completed Stage: Collection\n",
      "STAGE:2024-01-22 23:34:23 62472:62472 ActivityProfilerController.cpp:321] Completed Stage: Post Processing\n"
     ]
    },
    {
     "name": "stdout",
     "output_type": "stream",
     "text": [
      "iter_dt 24.20ms; iter 200: train loss 0.05414\n",
      "iter_dt 26.20ms; iter 300: train loss 0.02420\n",
      "iter_dt 25.13ms; iter 400: train loss 0.10863\n",
      "iter_dt 24.71ms; iter 500: train loss 0.02941\n",
      "iter_dt 27.46ms; iter 600: train loss 0.03982\n",
      "iter_dt 28.62ms; iter 700: train loss 0.00484\n",
      "iter_dt 24.96ms; iter 800: train loss 0.00488\n",
      "iter_dt 24.65ms; iter 900: train loss 0.01378\n"
     ]
    }
   ],
   "source": [
    "# https://github.com/pytorch/pytorch/blob/main/torch/profiler/profiler.py\n",
    "\n",
    "from torch.autograd import kineto_available, ProfilerActivity\n",
    "from torch.profiler import profile, schedule, tensorboard_trace_handler\n",
    "\n",
    "tracing_schedule = schedule(skip_first=5, wait=5, warmup=2, active=100, repeat=1)\n",
    "trace_handler = tensorboard_trace_handler(dir_name=\"/scratch/user/siweicui/xllm/kineto/tracing/trace_data/counter_tracing/\", use_gzip=False)\n",
    "\n",
    "\n",
    "# with profile(\n",
    "#   activities = [ProfilerActivity.CPU, ProfilerActivity.CUDA],\n",
    "#   schedule = tracing_schedule,\n",
    "#   on_trace_ready = trace_handler,\n",
    "#   # profile_memory = True,\n",
    "#   record_shapes = True,\n",
    "#   # with_stack = True,\n",
    "#   experimental_config=torch.profiler._ExperimentalConfig(\n",
    "#         profiler_metrics=[\n",
    "#             \"kineto__tensor_core_insts\",\n",
    "#             \"dram__bytes_read.sum\",\n",
    "#             \"dram__bytes_write.sum\"],\n",
    "#   profiler_measure_per_kernel=True),\n",
    "# ) as prof:\n",
    "with torch.profiler.profile(\n",
    "    activities=[torch.profiler.ProfilerActivity.CUDA,\n",
    "                torch.profiler.ProfilerActivity.CPU],\n",
    "    record_shapes=True,\n",
    "    schedule = tracing_schedule,\n",
    "    on_trace_ready=trace_handler,\n",
    "    experimental_config=torch.profiler._ExperimentalConfig(\n",
    "        profiler_metrics=[\n",
    "            \"kineto__tensor_core_insts\",\n",
    "            \"dram__bytes_read.sum\",\n",
    "            \"dram__bytes_write.sum\"],\n",
    "    profiler_measure_per_kernel=True),\n",
    ") as prof:\n",
    "    def batch_end_callback(trainer):\n",
    "      if trainer.iter_num % 100 == 0:\n",
    "          print(f\"iter_dt {trainer.iter_dt * 1000:.2f}ms; iter {trainer.iter_num}: train loss {trainer.loss.item():.5f}\")\n",
    "      prof.step()\n",
    "    trainer.set_callback('on_batch_end', batch_end_callback)\n",
    "\n",
    "    trainer.run()\n",
    "\n",
    "    \n",
    "    \n"
   ]
  },
  {
   "cell_type": "code",
   "execution_count": 8,
   "metadata": {},
   "outputs": [
    {
     "name": "stdout",
     "output_type": "stream",
     "text": [
      "-------------------------------------------------------  ------------  ------------  ------------  ------------  ------------  ------------  ------------  ------------  ------------  ------------  \n",
      "                                                   Name    Self CPU %      Self CPU   CPU total %     CPU total  CPU time avg     Self CUDA   Self CUDA %    CUDA total  CUDA time avg    # of Calls  \n",
      "-------------------------------------------------------  ------------  ------------  ------------  ------------  ------------  ------------  ------------  ------------  ------------  ------------  \n",
      "                                          ProfilerStep*        35.17%        1.913s        75.54%        4.109s      41.086ms       0.000us         0.00%     116.921ms       1.169ms           100  \n",
      "    autograd::engine::evaluate_function: AddmmBackward0         0.71%      38.648ms         5.94%     322.955ms     269.129us       0.000us         0.00%      73.424ms      61.187us          1200  \n",
      "                                               aten::mm         2.03%     110.598ms         3.01%     163.671ms      60.619us      52.894ms        18.60%      55.794ms      20.664us          2700  \n",
      "                                         AddmmBackward0         0.52%      28.462ms         4.05%     220.384ms     183.653us       0.000us         0.00%      45.936ms      38.280us          1200  \n",
      "                                              aten::sum         0.81%      43.894ms         1.11%      60.564ms      46.588us      28.181ms         9.91%      28.740ms      22.108us          1300  \n",
      "void at::native::reduce_kernel<128, 4, at::native::R...         0.00%       0.000us         0.00%       0.000us       0.000us      28.181ms         9.91%      28.181ms      21.678us          1300  \n",
      "                                              aten::bmm         1.09%      59.148ms         1.45%      78.757ms      43.754us      27.097ms         9.53%      27.762ms      15.423us          1800  \n",
      "                                              aten::mul         1.64%      88.926ms         2.42%     131.457ms      30.571us      24.815ms         8.73%      26.797ms       6.232us          4300  \n",
      "                                           aten::linear         0.23%      12.613ms         2.13%     116.095ms      89.304us       0.000us         0.00%      23.229ms      17.868us          1300  \n",
      "                                            aten::addmm         1.08%      58.850ms         1.42%      77.014ms      64.178us      20.448ms         7.19%      21.950ms      18.292us          1200  \n",
      "-------------------------------------------------------  ------------  ------------  ------------  ------------  ------------  ------------  ------------  ------------  ------------  ------------  \n",
      "Self CPU time total: 5.439s\n",
      "Self CUDA time total: 284.339ms\n",
      "\n"
     ]
    }
   ],
   "source": [
    "print(prof.key_averages().table(sort_by=\"cuda_time_total\", row_limit=10))\n"
   ]
  },
  {
   "cell_type": "code",
   "execution_count": 9,
   "metadata": {},
   "outputs": [
    {
     "name": "stdout",
     "output_type": "stream",
     "text": [
      "-------------------------------------------------------  ------------  ------------  ------------  ------------  ------------  ------------  ------------  ------------  ------------  ------------  \n",
      "                                                   Name    Self CPU %      Self CPU   CPU total %     CPU total  CPU time avg     Self CUDA   Self CUDA %    CUDA total  CUDA time avg    # of Calls  \n",
      "-------------------------------------------------------  ------------  ------------  ------------  ------------  ------------  ------------  ------------  ------------  ------------  ------------  \n",
      "                                          ProfilerStep*        35.17%        1.913s        75.54%        4.109s      41.086ms       0.000us         0.00%     116.921ms       1.169ms           100  \n",
      "enumerate(DataLoader)#_SingleProcessDataLoaderIter._...        10.94%     595.061ms        23.46%        1.276s      12.758ms       0.000us         0.00%     148.000us       1.480us           100  \n",
      "                                          aten::randint         0.79%      43.179ms         1.24%      67.256ms       7.590us       0.000us         0.00%       0.000us       0.000us          8861  \n",
      "                                            aten::empty         2.01%     109.558ms         2.01%     109.558ms       2.340us       0.000us         0.00%       0.000us       0.000us         46826  \n",
      "                                          aten::random_         0.24%      12.996ms         0.24%      12.996ms       1.467us       0.000us         0.00%       0.000us       0.000us          8861  \n",
      "                                     aten::resolve_conj         0.00%      15.000us         0.00%      15.000us       0.002us       0.000us         0.00%       0.000us       0.000us          8861  \n",
      "                                      aten::resolve_neg         0.00%       0.000us         0.00%       0.000us       0.000us       0.000us         0.00%       0.000us       0.000us          8861  \n",
      "                                             aten::rand         0.70%      37.868ms         1.03%      56.214ms       6.490us       0.000us         0.00%       0.000us       0.000us          8661  \n",
      "                                         aten::uniform_         0.17%       9.220ms         0.17%       9.220ms       1.065us       0.000us         0.00%       0.000us       0.000us          8661  \n",
      "                                             aten::item         0.50%      27.365ms         0.59%      31.867ms       1.364us       0.000us         0.00%     331.000us       0.014us         23362  \n",
      "-------------------------------------------------------  ------------  ------------  ------------  ------------  ------------  ------------  ------------  ------------  ------------  ------------  \n",
      "Self CPU time total: 5.439s\n",
      "Self CUDA time total: 284.339ms\n",
      "\n"
     ]
    }
   ],
   "source": [
    "print(prof.key_averages().table(sort_by=\"self_cpu_memory_usage\", row_limit=10))"
   ]
  },
  {
   "cell_type": "code",
   "execution_count": null,
   "metadata": {},
   "outputs": [],
   "source": []
  }
 ],
 "metadata": {
  "kernelspec": {
   "display_name": "llm",
   "language": "python",
   "name": "python3"
  },
  "language_info": {
   "codemirror_mode": {
    "name": "ipython",
    "version": 3
   },
   "file_extension": ".py",
   "mimetype": "text/x-python",
   "name": "python",
   "nbconvert_exporter": "python",
   "pygments_lexer": "ipython3",
   "version": "3.11.4"
  }
 },
 "nbformat": 4,
 "nbformat_minor": 2
}
