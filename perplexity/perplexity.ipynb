{
 "cells": [
  {
   "cell_type": "code",
   "execution_count": 1,
   "metadata": {},
   "outputs": [
    {
     "name": "stderr",
     "output_type": "stream",
     "text": [
      "/scratch/user/siweicui/.conda/envs/llm/lib/python3.11/site-packages/tqdm/auto.py:21: TqdmWarning: IProgress not found. Please update jupyter and ipywidgets. See https://ipywidgets.readthedocs.io/en/stable/user_install.html\n",
      "  from .autonotebook import tqdm as notebook_tqdm\n"
     ]
    }
   ],
   "source": [
    "from transformers import AutoModelForCausalLM, AutoTokenizer\n",
    "import torch\n"
   ]
  },
  {
   "cell_type": "code",
   "execution_count": 4,
   "metadata": {},
   "outputs": [
    {
     "name": "stderr",
     "output_type": "stream",
     "text": [
      "config.json: 100%|██████████| 720/720 [00:00<00:00, 2.71MB/s]\n",
      "model.safetensors.index.json: 100%|██████████| 92.7k/92.7k [00:00<00:00, 3.09MB/s]\n",
      "model-00001-of-00019.safetensors: 100%|██████████| 4.89G/4.89G [00:22<00:00, 215MB/s]\n",
      "model-00002-of-00019.safetensors: 100%|██████████| 4.98G/4.98G [00:23<00:00, 215MB/s]\n",
      "model-00003-of-00019.safetensors: 100%|██████████| 4.98G/4.98G [00:23<00:00, 216MB/s]\n",
      "model-00004-of-00019.safetensors: 100%|██████████| 4.90G/4.90G [00:22<00:00, 216MB/s]\n",
      "model-00005-of-00019.safetensors: 100%|██████████| 4.98G/4.98G [00:22<00:00, 217MB/s]\n",
      "model-00006-of-00019.safetensors: 100%|██████████| 4.98G/4.98G [00:22<00:00, 217MB/s]\n",
      "model-00007-of-00019.safetensors: 100%|██████████| 4.90G/4.90G [00:23<00:00, 211MB/s]\n",
      "model-00008-of-00019.safetensors: 100%|██████████| 4.98G/4.98G [00:23<00:00, 212MB/s]\n",
      "model-00009-of-00019.safetensors: 100%|██████████| 4.98G/4.98G [00:28<00:00, 172MB/s]\n",
      "model-00010-of-00019.safetensors: 100%|██████████| 4.90G/4.90G [00:23<00:00, 208MB/s]\n",
      "model-00011-of-00019.safetensors: 100%|██████████| 4.98G/4.98G [00:24<00:00, 207MB/s]\n",
      "model-00012-of-00019.safetensors: 100%|██████████| 4.98G/4.98G [00:24<00:00, 207MB/s]\n",
      "model-00013-of-00019.safetensors: 100%|██████████| 4.98G/4.98G [00:24<00:00, 205MB/s]\n",
      "model-00014-of-00019.safetensors: 100%|██████████| 4.90G/4.90G [00:24<00:00, 197MB/s]\n",
      "model-00015-of-00019.safetensors: 100%|██████████| 4.98G/4.98G [00:24<00:00, 207MB/s]\n",
      "model-00016-of-00019.safetensors: 100%|██████████| 4.98G/4.98G [00:23<00:00, 209MB/s]\n",
      "model-00017-of-00019.safetensors: 100%|██████████| 4.90G/4.90G [00:23<00:00, 206MB/s]\n",
      "model-00018-of-00019.safetensors: 100%|██████████| 4.98G/4.98G [00:24<00:00, 202MB/s]\n",
      "model-00019-of-00019.safetensors: 100%|██████████| 4.22G/4.22G [00:20<00:00, 204MB/s]\n",
      "Downloading shards: 100%|██████████| 19/19 [07:37<00:00, 24.09s/it]\n",
      "Loading checkpoint shards: 100%|██████████| 19/19 [03:15<00:00, 10.31s/it]\n",
      "generation_config.json: 100%|██████████| 116/116 [00:00<00:00, 141kB/s]\n",
      "tokenizer_config.json: 100%|██████████| 1.46k/1.46k [00:00<00:00, 8.35MB/s]\n",
      "tokenizer.model: 100%|██████████| 493k/493k [00:00<00:00, 364MB/s]\n",
      "tokenizer.json: 100%|██████████| 1.80M/1.80M [00:00<00:00, 26.1MB/s]\n",
      "special_tokens_map.json: 100%|██████████| 72.0/72.0 [00:00<00:00, 496kB/s]\n"
     ]
    }
   ],
   "source": [
    "model = AutoModelForCausalLM.from_pretrained(\"mistralai/Mixtral-8x7B-Instruct-v0.1\", cache_dir=\"/scratch/user/siweicui/LLM/huggingface\")\n",
    "tokenizer = AutoTokenizer.from_pretrained(\"mistralai/Mixtral-8x7B-Instruct-v0.1\", cache_dir=\"/scratch/user/siweicui/LLM/huggingface\")\n"
   ]
  },
  {
   "cell_type": "code",
   "execution_count": 6,
   "metadata": {},
   "outputs": [
    {
     "name": "stdout",
     "output_type": "stream",
     "text": [
      "tensor(43057.7969, grad_fn=<ExpBackward0>)\n"
     ]
    }
   ],
   "source": [
    "inputs = tokenizer(\"[INST] Explain Deep Learning. [/INST]\", return_tensors = \"pt\")\n",
    "output = model(input_ids = inputs[\"input_ids\"], labels = inputs[\"input_ids\"])\n",
    "loss = output.loss\n",
    "ppl = torch.exp(loss)\n",
    "print(ppl)"
   ]
  },
  {
   "cell_type": "code",
   "execution_count": 7,
   "metadata": {},
   "outputs": [
    {
     "name": "stderr",
     "output_type": "stream",
     "text": [
      "Setting `pad_token_id` to `eos_token_id`:2 for open-end generation.\n"
     ]
    },
    {
     "name": "stdout",
     "output_type": "stream",
     "text": [
      "[INST] Explain Deep Learning. [/INST] Deep learning is a subset of machine learning, which is a type of artificial intelligence (AI). It\n"
     ]
    }
   ],
   "source": [
    "outputs = model.generate(**inputs, max_new_tokens=20)\n",
    "print(tokenizer.decode(outputs[0], skip_special_tokens=True))\n",
    "\n"
   ]
  },
  {
   "cell_type": "code",
   "execution_count": 11,
   "metadata": {},
   "outputs": [
    {
     "name": "stdout",
     "output_type": "stream",
     "text": [
      "tensor(4.2075, grad_fn=<ExpBackward0>)\n"
     ]
    }
   ],
   "source": [
    "labels = tokenizer(\"Deep learning is a subset of machine learning, which is a type of artificial intelligence (AI)\", return_tensors = \"pt\")\n",
    "output = model(input_ids = labels[\"input_ids\"], labels = labels[\"input_ids\"])\n",
    "loss = output.loss\n",
    "ppl = torch.exp(loss)\n",
    "print(ppl)\n",
    "\n",
    "# Running on CPU only"
   ]
  },
  {
   "cell_type": "code",
   "execution_count": null,
   "metadata": {},
   "outputs": [],
   "source": []
  }
 ],
 "metadata": {
  "kernelspec": {
   "display_name": "llm",
   "language": "python",
   "name": "python3"
  },
  "language_info": {
   "codemirror_mode": {
    "name": "ipython",
    "version": 3
   },
   "file_extension": ".py",
   "mimetype": "text/x-python",
   "name": "python",
   "nbconvert_exporter": "python",
   "pygments_lexer": "ipython3",
   "version": "3.11.4"
  }
 },
 "nbformat": 4,
 "nbformat_minor": 2
}
